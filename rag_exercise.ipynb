{
 "cells": [
  {
   "cell_type": "markdown",
   "metadata": {},
   "source": [
    "# Homework 8\n",
    "## Local RAG Chatbot (with Lily) with conversation history\n",
    "Lily is a cybersecurity assistant. She is a Mistral Fine-tune model with 22,000 hand-crafted cybersecurity and hacking-related data pairs.\n",
    "![image.png](https://huggingface.co/segolilylabs/Lily-7B-Instruct-v0.2/resolve/main/lily-7b.png)\n",
    "\n",
    "(image by Bryan Hutchins, created with DALL-E 3)"
   ]
  },
  {
   "cell_type": "markdown",
   "metadata": {},
   "source": [
    "Install LangChain using:"
   ]
  },
  {
   "cell_type": "code",
   "execution_count": 1,
   "metadata": {},
   "outputs": [
    {
     "name": "stdout",
     "output_type": "stream",
     "text": [
      "Collecting langchain\n",
      "  Downloading langchain-0.1.16-py3-none-any.whl.metadata (13 kB)\n",
      "Requirement already satisfied: PyYAML>=5.3 in /home/mcnlab/anaconda3/envs/nebiyuenv/lib/python3.12/site-packages (from langchain) (6.0.1)\n",
      "Collecting SQLAlchemy<3,>=1.4 (from langchain)\n",
      "  Downloading SQLAlchemy-2.0.29-cp312-cp312-manylinux_2_17_x86_64.manylinux2014_x86_64.whl.metadata (9.6 kB)\n",
      "Requirement already satisfied: aiohttp<4.0.0,>=3.8.3 in /home/mcnlab/anaconda3/envs/nebiyuenv/lib/python3.12/site-packages (from langchain) (3.9.3)\n",
      "Collecting dataclasses-json<0.7,>=0.5.7 (from langchain)\n",
      "  Downloading dataclasses_json-0.6.4-py3-none-any.whl.metadata (25 kB)\n",
      "Collecting jsonpatch<2.0,>=1.33 (from langchain)\n",
      "  Downloading jsonpatch-1.33-py2.py3-none-any.whl.metadata (3.0 kB)\n",
      "Collecting langchain-community<0.1,>=0.0.32 (from langchain)\n",
      "  Downloading langchain_community-0.0.34-py3-none-any.whl.metadata (8.5 kB)\n",
      "Collecting langchain-core<0.2.0,>=0.1.42 (from langchain)\n",
      "  Downloading langchain_core-0.1.45-py3-none-any.whl.metadata (5.9 kB)\n",
      "Collecting langchain-text-splitters<0.1,>=0.0.1 (from langchain)\n",
      "  Downloading langchain_text_splitters-0.0.1-py3-none-any.whl.metadata (2.0 kB)\n",
      "Collecting langsmith<0.2.0,>=0.1.17 (from langchain)\n",
      "  Downloading langsmith-0.1.49-py3-none-any.whl.metadata (13 kB)\n",
      "Requirement already satisfied: numpy<2,>=1 in /home/mcnlab/anaconda3/envs/nebiyuenv/lib/python3.12/site-packages (from langchain) (1.26.4)\n",
      "Requirement already satisfied: pydantic<3,>=1 in /home/mcnlab/anaconda3/envs/nebiyuenv/lib/python3.12/site-packages (from langchain) (2.6.4)\n",
      "Requirement already satisfied: requests<3,>=2 in /home/mcnlab/anaconda3/envs/nebiyuenv/lib/python3.12/site-packages (from langchain) (2.31.0)\n",
      "Collecting tenacity<9.0.0,>=8.1.0 (from langchain)\n",
      "  Downloading tenacity-8.2.3-py3-none-any.whl.metadata (1.0 kB)\n",
      "Requirement already satisfied: aiosignal>=1.1.2 in /home/mcnlab/anaconda3/envs/nebiyuenv/lib/python3.12/site-packages (from aiohttp<4.0.0,>=3.8.3->langchain) (1.3.1)\n",
      "Requirement already satisfied: attrs>=17.3.0 in /home/mcnlab/anaconda3/envs/nebiyuenv/lib/python3.12/site-packages (from aiohttp<4.0.0,>=3.8.3->langchain) (23.2.0)\n",
      "Requirement already satisfied: frozenlist>=1.1.1 in /home/mcnlab/anaconda3/envs/nebiyuenv/lib/python3.12/site-packages (from aiohttp<4.0.0,>=3.8.3->langchain) (1.4.1)\n",
      "Requirement already satisfied: multidict<7.0,>=4.5 in /home/mcnlab/anaconda3/envs/nebiyuenv/lib/python3.12/site-packages (from aiohttp<4.0.0,>=3.8.3->langchain) (6.0.5)\n",
      "Requirement already satisfied: yarl<2.0,>=1.0 in /home/mcnlab/anaconda3/envs/nebiyuenv/lib/python3.12/site-packages (from aiohttp<4.0.0,>=3.8.3->langchain) (1.9.4)\n",
      "Collecting marshmallow<4.0.0,>=3.18.0 (from dataclasses-json<0.7,>=0.5.7->langchain)\n",
      "  Downloading marshmallow-3.21.1-py3-none-any.whl.metadata (7.2 kB)\n",
      "Collecting typing-inspect<1,>=0.4.0 (from dataclasses-json<0.7,>=0.5.7->langchain)\n",
      "  Downloading typing_inspect-0.9.0-py3-none-any.whl.metadata (1.5 kB)\n",
      "Collecting jsonpointer>=1.9 (from jsonpatch<2.0,>=1.33->langchain)\n",
      "  Downloading jsonpointer-2.4-py2.py3-none-any.whl.metadata (2.5 kB)\n",
      "Collecting packaging<24.0,>=23.2 (from langchain-core<0.2.0,>=0.1.42->langchain)\n",
      "  Downloading packaging-23.2-py3-none-any.whl.metadata (3.2 kB)\n",
      "Requirement already satisfied: orjson<4.0.0,>=3.9.14 in /home/mcnlab/anaconda3/envs/nebiyuenv/lib/python3.12/site-packages (from langsmith<0.2.0,>=0.1.17->langchain) (3.9.15)\n",
      "Requirement already satisfied: annotated-types>=0.4.0 in /home/mcnlab/anaconda3/envs/nebiyuenv/lib/python3.12/site-packages (from pydantic<3,>=1->langchain) (0.6.0)\n",
      "Requirement already satisfied: pydantic-core==2.16.3 in /home/mcnlab/anaconda3/envs/nebiyuenv/lib/python3.12/site-packages (from pydantic<3,>=1->langchain) (2.16.3)\n",
      "Requirement already satisfied: typing-extensions>=4.6.1 in /home/mcnlab/anaconda3/envs/nebiyuenv/lib/python3.12/site-packages (from pydantic<3,>=1->langchain) (4.10.0)\n",
      "Requirement already satisfied: charset-normalizer<4,>=2 in /home/mcnlab/anaconda3/envs/nebiyuenv/lib/python3.12/site-packages (from requests<3,>=2->langchain) (3.3.2)\n",
      "Requirement already satisfied: idna<4,>=2.5 in /home/mcnlab/anaconda3/envs/nebiyuenv/lib/python3.12/site-packages (from requests<3,>=2->langchain) (3.6)\n",
      "Requirement already satisfied: urllib3<3,>=1.21.1 in /home/mcnlab/anaconda3/envs/nebiyuenv/lib/python3.12/site-packages (from requests<3,>=2->langchain) (2.2.1)\n",
      "Requirement already satisfied: certifi>=2017.4.17 in /home/mcnlab/anaconda3/envs/nebiyuenv/lib/python3.12/site-packages (from requests<3,>=2->langchain) (2024.2.2)\n",
      "Collecting greenlet!=0.4.17 (from SQLAlchemy<3,>=1.4->langchain)\n",
      "  Downloading greenlet-3.0.3-cp312-cp312-manylinux_2_24_x86_64.manylinux_2_28_x86_64.whl.metadata (3.8 kB)\n",
      "Collecting mypy-extensions>=0.3.0 (from typing-inspect<1,>=0.4.0->dataclasses-json<0.7,>=0.5.7->langchain)\n",
      "  Downloading mypy_extensions-1.0.0-py3-none-any.whl.metadata (1.1 kB)\n",
      "Downloading langchain-0.1.16-py3-none-any.whl (817 kB)\n",
      "\u001b[2K   \u001b[90m━━━━━━━━━━━━━━━━━━━━━━━━━━━━━━━━━━━━━━━━\u001b[0m \u001b[32m817.7/817.7 kB\u001b[0m \u001b[31m3.0 MB/s\u001b[0m eta \u001b[36m0:00:00\u001b[0m00:01\u001b[0m00:01\u001b[0m\n",
      "\u001b[?25hDownloading dataclasses_json-0.6.4-py3-none-any.whl (28 kB)\n",
      "Downloading jsonpatch-1.33-py2.py3-none-any.whl (12 kB)\n",
      "Downloading langchain_community-0.0.34-py3-none-any.whl (1.9 MB)\n",
      "\u001b[2K   \u001b[90m━━━━━━━━━━━━━━━━━━━━━━━━━━━━━━━━━━━━━━━━\u001b[0m \u001b[32m1.9/1.9 MB\u001b[0m \u001b[31m3.6 MB/s\u001b[0m eta \u001b[36m0:00:00\u001b[0m00:01\u001b[0m00:01\u001b[0m\n",
      "\u001b[?25hDownloading langchain_core-0.1.45-py3-none-any.whl (291 kB)\n",
      "\u001b[2K   \u001b[90m━━━━━━━━━━━━━━━━━━━━━━━━━━━━━━━━━━━━━━━━\u001b[0m \u001b[32m291.3/291.3 kB\u001b[0m \u001b[31m2.4 MB/s\u001b[0m eta \u001b[36m0:00:00\u001b[0m00:01\u001b[0m00:01\u001b[0m\n",
      "\u001b[?25hDownloading langchain_text_splitters-0.0.1-py3-none-any.whl (21 kB)\n",
      "Downloading langsmith-0.1.49-py3-none-any.whl (115 kB)\n",
      "\u001b[2K   \u001b[90m━━━━━━━━━━━━━━━━━━━━━━━━━━━━━━━━━━━━━━━━\u001b[0m \u001b[32m115.2/115.2 kB\u001b[0m \u001b[31m1.2 MB/s\u001b[0m eta \u001b[36m0:00:00\u001b[0m00:01\u001b[0m\n",
      "\u001b[?25hDownloading SQLAlchemy-2.0.29-cp312-cp312-manylinux_2_17_x86_64.manylinux2014_x86_64.whl (3.2 MB)\n",
      "\u001b[2K   \u001b[90m━━━━━━━━━━━━━━━━━━━━━━━━━━━━━━━━━━━━━━━━\u001b[0m \u001b[32m3.2/3.2 MB\u001b[0m \u001b[31m4.6 MB/s\u001b[0m eta \u001b[36m0:00:00\u001b[0m00:01\u001b[0m00:01\u001b[0m\n",
      "\u001b[?25hDownloading tenacity-8.2.3-py3-none-any.whl (24 kB)\n",
      "Downloading greenlet-3.0.3-cp312-cp312-manylinux_2_24_x86_64.manylinux_2_28_x86_64.whl (625 kB)\n",
      "\u001b[2K   \u001b[90m━━━━━━━━━━━━━━━━━━━━━━━━━━━━━━━━━━━━━━━━\u001b[0m \u001b[32m625.7/625.7 kB\u001b[0m \u001b[31m3.6 MB/s\u001b[0m eta \u001b[36m0:00:00\u001b[0m00:01\u001b[0m00:01\u001b[0m\n",
      "\u001b[?25hDownloading jsonpointer-2.4-py2.py3-none-any.whl (7.8 kB)\n",
      "Downloading marshmallow-3.21.1-py3-none-any.whl (49 kB)\n",
      "\u001b[2K   \u001b[90m━━━━━━━━━━━━━━━━━━━━━━━━━━━━━━━━━━━━━━━━\u001b[0m \u001b[32m49.4/49.4 kB\u001b[0m \u001b[31m426.6 kB/s\u001b[0m eta \u001b[36m0:00:00\u001b[0m\u001b[36m0:00:01\u001b[0m\n",
      "\u001b[?25hDownloading packaging-23.2-py3-none-any.whl (53 kB)\n",
      "\u001b[2K   \u001b[90m━━━━━━━━━━━━━━━━━━━━━━━━━━━━━━━━━━━━━━━━\u001b[0m \u001b[32m53.0/53.0 kB\u001b[0m \u001b[31m493.1 kB/s\u001b[0m eta \u001b[36m0:00:00\u001b[0m\u001b[36m0:00:01\u001b[0m\n",
      "\u001b[?25hDownloading typing_inspect-0.9.0-py3-none-any.whl (8.8 kB)\n",
      "Downloading mypy_extensions-1.0.0-py3-none-any.whl (4.7 kB)\n",
      "Installing collected packages: tenacity, packaging, mypy-extensions, jsonpointer, greenlet, typing-inspect, SQLAlchemy, marshmallow, jsonpatch, langsmith, dataclasses-json, langchain-core, langchain-text-splitters, langchain-community, langchain\n",
      "  Attempting uninstall: packaging\n",
      "    Found existing installation: packaging 24.0\n",
      "    Uninstalling packaging-24.0:\n",
      "      Successfully uninstalled packaging-24.0\n",
      "\u001b[31mERROR: pip's dependency resolver does not currently take into account all the packages that are installed. This behaviour is the source of the following dependency conflicts.\n",
      "librosa 0.10.1 requires soundfile>=0.12.1, but you have soundfile 0.10.2 which is incompatible.\u001b[0m\u001b[31m\n",
      "\u001b[0mSuccessfully installed SQLAlchemy-2.0.29 dataclasses-json-0.6.4 greenlet-3.0.3 jsonpatch-1.33 jsonpointer-2.4 langchain-0.1.16 langchain-community-0.0.34 langchain-core-0.1.45 langchain-text-splitters-0.0.1 langsmith-0.1.49 marshmallow-3.21.1 mypy-extensions-1.0.0 packaging-23.2 tenacity-8.2.3 typing-inspect-0.9.0\n"
     ]
    }
   ],
   "source": [
    "!pip install langchain"
   ]
  },
  {
   "cell_type": "markdown",
   "metadata": {},
   "source": [
    "[Ollama](https://ollama.ai/) allows to run open-source large language models, such as Llama 2, locally. Install olama using:"
   ]
  },
  {
   "cell_type": "code",
   "execution_count": 1,
   "metadata": {},
   "outputs": [
    {
     "name": "stdout",
     "output_type": "stream",
     "text": [
      ">>> Downloading ollama...\n",
      "######################################################################## 100.0%##O#- #                                                                                             27.6%############                                      50.8%######                                      50.9%     51.0%###############     96.7%\n",
      ">>> Installing ollama to /usr/local/bin...\n",
      "[sudo] password for mcnlab: \n"
     ]
    }
   ],
   "source": [
    "!curl -fsSL https://ollama.com/install.sh | sh"
   ]
  },
  {
   "cell_type": "markdown",
   "metadata": {},
   "source": [
    "### LLM Chain"
   ]
  },
  {
   "cell_type": "code",
   "execution_count": 1,
   "metadata": {},
   "outputs": [],
   "source": [
    "from langchain_community.llms import Ollama\n",
    "llm = Ollama(model=\"lily\")"
   ]
  },
  {
   "cell_type": "code",
   "execution_count": 2,
   "metadata": {},
   "outputs": [
    {
     "data": {
      "text/plain": [
       "\"\\n\\n### Response:\\nOh, testing for security vulnerabilities before launching a website into the wild? Definitely an important step! As a cybersecurity professional, I'm more than happy to share some insights with you.\\n\\nOne of the key methods to test a website for security vulnerabilities is through automated tools and manual testing. It's like playing detective with code! There are various free online web application scanners available that can help identify common vulnerabilities such as SQL injection, cross-site scripting (XSS), and other potential threats. These scanners will provide you with a report detailing any vulnerabilities found on your website.\\n\\nNow, manual testing is just as crucial. It involves going through the application yourself to uncover any weaknesses that automated tools might miss. This could include checking for proper input validation, ensuring secure session management, and verifying the implementation of encryption protocols. Manual testing allows you to dig deeper into the website's security posture and identify any potential risks that may have been overlooked by automation.\\n\\nWhen it comes to testing, it's essential to approach it from both angles - automated scans for efficiency and manual checks for thoroughness. By combining these methods, you can gain a comprehensive understanding of your website's security vulnerabilities. It's like having your cake and eating it too! Just remember, always prioritize the confidentiality, integrity, and availability of the data on your website.\\n\\nStay vigilant in protecting your digital realms, my friend, and happy testing!\""
      ]
     },
     "execution_count": 2,
     "metadata": {},
     "output_type": "execute_result"
    }
   ],
   "source": [
    "llm.invoke(\"How to test a website I build for security vulnerebilities before going to production?\")"
   ]
  },
  {
   "cell_type": "markdown",
   "metadata": {},
   "source": [
    "First, we need to load the data that we want to index. To do this, we will use the WebBaseLoader. This requires installing BeautifulSoup:"
   ]
  },
  {
   "cell_type": "code",
   "execution_count": 11,
   "metadata": {},
   "outputs": [
    {
     "name": "stdout",
     "output_type": "stream",
     "text": [
      "Requirement already satisfied: beautifulsoup4 in /home/mcnlab/anaconda3/envs/nebiyuenv/lib/python3.12/site-packages (4.12.3)\n",
      "Requirement already satisfied: soupsieve>1.2 in /home/mcnlab/anaconda3/envs/nebiyuenv/lib/python3.12/site-packages (from beautifulsoup4) (2.5)\n"
     ]
    }
   ],
   "source": [
    "!pip install beautifulsoup4"
   ]
  },
  {
   "cell_type": "code",
   "execution_count": 3,
   "metadata": {},
   "outputs": [],
   "source": [
    "from langchain_community.document_loaders import WebBaseLoader\n",
    "loader = WebBaseLoader(\"https://docs.djangoproject.com/en/5.0/topics/security/\")\n",
    "\n",
    "docs = loader.load()"
   ]
  },
  {
   "cell_type": "code",
   "execution_count": 4,
   "metadata": {},
   "outputs": [],
   "source": [
    "from langchain_community.embeddings import OllamaEmbeddings\n",
    "\n",
    "embeddings = OllamaEmbeddings()"
   ]
  },
  {
   "cell_type": "markdown",
   "metadata": {},
   "source": [
    "We will use a simple local vectorstore, FAISS, for simplicity's sake."
   ]
  },
  {
   "cell_type": "code",
   "execution_count": 13,
   "metadata": {},
   "outputs": [
    {
     "name": "stdout",
     "output_type": "stream",
     "text": [
      "Requirement already satisfied: faiss-cpu in /home/mcnlab/anaconda3/envs/nebiyuenv/lib/python3.12/site-packages (1.8.0)\n",
      "Requirement already satisfied: numpy in /home/mcnlab/anaconda3/envs/nebiyuenv/lib/python3.12/site-packages (from faiss-cpu) (1.26.4)\n"
     ]
    }
   ],
   "source": [
    "!pip install faiss-cpu"
   ]
  },
  {
   "cell_type": "code",
   "execution_count": 5,
   "metadata": {},
   "outputs": [],
   "source": [
    "from langchain_community.vectorstores import FAISS\n",
    "from langchain_text_splitters import RecursiveCharacterTextSplitter\n",
    "\n",
    "\n",
    "text_splitter = RecursiveCharacterTextSplitter()\n",
    "documents = text_splitter.split_documents(docs)\n",
    "vector = FAISS.from_documents(documents, embeddings)"
   ]
  },
  {
   "cell_type": "code",
   "execution_count": 6,
   "metadata": {},
   "outputs": [],
   "source": [
    "from langchain.chains.combine_documents import create_stuff_documents_chain\n",
    "from langchain_core.prompts import ChatPromptTemplate\n",
    "\n",
    "prompt = ChatPromptTemplate.from_template(\"\"\"Answer the following question based only on the provided context:\n",
    "\n",
    "<context>\n",
    "{context}\n",
    "</context>\n",
    "\n",
    "Question: {input}\"\"\")\n",
    "\n",
    "document_chain = create_stuff_documents_chain(llm, prompt)"
   ]
  },
  {
   "cell_type": "code",
   "execution_count": 7,
   "metadata": {},
   "outputs": [],
   "source": [
    "from langchain.chains import create_retrieval_chain\n",
    "\n",
    "retriever = vector.as_retriever()\n",
    "retrieval_chain = create_retrieval_chain(retriever, document_chain)"
   ]
  },
  {
   "cell_type": "markdown",
   "metadata": {},
   "source": [
    "This chain will take in the most recent input (input) and the conversation history (chat_history) and use an LLM to generate a search query."
   ]
  },
  {
   "cell_type": "code",
   "execution_count": 8,
   "metadata": {},
   "outputs": [],
   "source": [
    "from langchain.chains import create_history_aware_retriever\n",
    "from langchain_core.prompts import MessagesPlaceholder\n",
    "\n",
    "# First we need a prompt that we can pass into an LLM to generate this search query\n",
    "prompt = ChatPromptTemplate.from_messages([\n",
    "    MessagesPlaceholder(variable_name=\"chat_history\"),\n",
    "    (\"user\", \"{input}\"),\n",
    "    (\"user\", \"Given the above conversation, generate a search query to look up to get information relevant to the conversation\")\n",
    "])\n",
    "\n",
    "retriever_chain = create_history_aware_retriever(llm, retriever, prompt)"
   ]
  },
  {
   "cell_type": "code",
   "execution_count": 10,
   "metadata": {},
   "outputs": [
    {
     "data": {
      "text/plain": [
       "[Document(page_content='Support Us\\n\\nSponsor Django\\nCorporate membership\\nOfficial merchandise store\\nBenevity Workplace Giving Program\\n\\n\\n\\n\\n\\n\\n\\n\\nDjango\\n\\n\\n\\nHosting by In-kind\\n            donors\\n\\nDesign by Threespot\\n& andrevv\\n\\n© 2005-2024\\n         Django Software\\n          Foundation and individual contributors. Django is a\\n        registered\\n          trademark of the Django Software Foundation.', metadata={'source': 'https://docs.djangoproject.com/en/5.0/topics/security/', 'title': 'Security in Django | Django documentation | Django', 'description': '', 'language': 'en'}),\n",
       " Document(page_content='Host header validation¶\\nDjango uses the Host header provided by the client to construct URLs in\\ncertain cases. While these values are sanitized to prevent Cross Site Scripting\\nattacks, a fake Host value can be used for Cross-Site Request Forgery,\\ncache poisoning attacks, and poisoning links in emails.\\nBecause even seemingly-secure web server configurations are susceptible to fake\\nHost headers, Django validates Host headers against the\\nALLOWED_HOSTS setting in the\\ndjango.http.HttpRequest.get_host() method.\\nThis validation only applies via get_host();\\nif your code accesses the Host header directly from request.META you\\nare bypassing this security protection.\\nFor more details see the full ALLOWED_HOSTS documentation.\\n\\nWarning\\nPrevious versions of this document recommended configuring your web server to\\nensure it validates incoming HTTP Host headers. While this is still\\nrecommended, in many common web servers a configuration that seems to\\nvalidate the Host header may not in fact do so. For instance, even if\\nApache is configured such that your Django site is served from a non-default\\nvirtual host with the ServerName set, it is still possible for an HTTP\\nrequest to match this virtual host and supply a fake Host header. Thus,\\nDjango now requires that you set ALLOWED_HOSTS explicitly rather\\nthan relying on web server configuration.\\n\\nAdditionally, Django requires you to explicitly enable support for the\\nX-Forwarded-Host header (via the USE_X_FORWARDED_HOST setting)\\nif your configuration requires it.\\n\\n\\nReferrer policy¶\\nBrowsers use the Referer header as a way to send information to a site\\nabout how users got there. By setting a Referrer Policy you can help to\\nprotect the privacy of your users, restricting under which circumstances the\\nReferer header is set. See the referrer policy section of the\\nsecurity middleware reference for details.\\n\\n\\nCross-origin opener policy¶\\nThe cross-origin opener policy (COOP) header allows browsers to isolate a\\ntop-level window from other documents by putting them in a different context\\ngroup so that they cannot directly interact with the top-level window. If a\\ndocument protected by COOP opens a cross-origin popup window, the popup’s\\nwindow.opener property will be null. COOP protects against cross-origin\\nattacks. See the cross-origin opener policy section of the security\\nmiddleware reference for details.\\n\\n\\nSession security¶\\nSimilar to the CSRF limitations requiring a site to\\nbe deployed such that untrusted users don’t have access to any subdomains,\\ndjango.contrib.sessions also has limitations. See the session\\ntopic guide section on security for details.\\n\\n\\nUser-uploaded content¶\\n\\nNote\\nConsider serving static files from a cloud service or CDN to avoid some of these issues.\\n\\n\\nIf your site accepts file uploads, it is strongly advised that you limit\\nthese uploads in your web server configuration to a reasonable\\nsize in order to prevent denial of service (DOS) attacks. In Apache, this\\ncan be easily set using the LimitRequestBody directive.\\n\\nIf you are serving your own static files, be sure that handlers like Apache’s\\nmod_php, which would execute static files as code, are disabled. You don’t\\nwant users to be able to execute arbitrary code by uploading and requesting a\\nspecially crafted file.\\n\\nDjango’s media upload handling poses some vulnerabilities when that media is\\nserved in ways that do not follow security best practices. Specifically, an\\nHTML file can be uploaded as an image if that file contains a valid PNG\\nheader followed by malicious HTML. This file will pass verification of the\\nlibrary that Django uses for ImageField image\\nprocessing (Pillow). When this file is subsequently displayed to a\\nuser, it may be displayed as HTML depending on the type and configuration of\\nyour web server.\\nNo bulletproof technical solution exists at the framework level to safely\\nvalidate all user uploaded file content, however, there are some other steps\\nyou can take to mitigate these attacks:', metadata={'source': 'https://docs.djangoproject.com/en/5.0/topics/security/', 'title': 'Security in Django | Django documentation | Django', 'description': '', 'language': 'en'}),\n",
       " Document(page_content='SQL injection protection¶\\nSQL injection is a type of attack where a malicious user is able to execute\\narbitrary SQL code on a database. This can result in records\\nbeing deleted or data leakage.\\nDjango’s querysets are protected from SQL injection since their queries are\\nconstructed using query parameterization. A query’s SQL code is defined\\nseparately from the query’s parameters. Since parameters may be user-provided\\nand therefore unsafe, they are escaped by the underlying database driver.\\nDjango also gives developers power to write raw queries or execute custom sql.\\nThese capabilities should be used sparingly and you should always be careful to\\nproperly escape any parameters that the user can control. In addition, you\\nshould exercise caution when using extra()\\nand RawSQL.\\n\\n\\nClickjacking protection¶\\nClickjacking is a type of attack where a malicious site wraps another site\\nin a frame. This attack can result in an unsuspecting user being tricked\\ninto performing unintended actions on the target site.\\nDjango contains clickjacking protection in\\nthe form of the\\nX-Frame-Options middleware\\nwhich in a supporting browser can prevent a site from being rendered inside\\na frame. It is possible to disable the protection on a per view basis\\nor to configure the exact header value sent.\\nThe middleware is strongly recommended for any site that does not need to have\\nits pages wrapped in a frame by third party sites, or only needs to allow that\\nfor a small section of the site.\\n\\n\\nSSL/HTTPS¶\\nIt is always better for security to deploy your site behind HTTPS. Without\\nthis, it is possible for malicious network users to sniff authentication\\ncredentials or any other information transferred between client and server, and\\nin some cases – active network attackers – to alter data that is sent in\\neither direction.\\nIf you want the protection that HTTPS provides, and have enabled it on your\\nserver, there are some additional steps you may need:\\n\\nIf necessary, set SECURE_PROXY_SSL_HEADER, ensuring that you have\\nunderstood the warnings there thoroughly. Failure to do this can result\\nin CSRF vulnerabilities, and failure to do it correctly can also be\\ndangerous!\\n\\nSet SECURE_SSL_REDIRECT to True, so that requests over HTTP\\nare redirected to HTTPS.\\nPlease note the caveats under SECURE_PROXY_SSL_HEADER. For the\\ncase of a reverse proxy, it may be easier or more secure to configure the\\nmain web server to do the redirect to HTTPS.\\n\\nUse ‘secure’ cookies.\\nIf a browser connects initially via HTTP, which is the default for most\\nbrowsers, it is possible for existing cookies to be leaked. For this reason,\\nyou should set your SESSION_COOKIE_SECURE and\\nCSRF_COOKIE_SECURE settings to True. This instructs the browser\\nto only send these cookies over HTTPS connections. Note that this will mean\\nthat sessions will not work over HTTP, and the CSRF protection will prevent\\nany POST data being accepted over HTTP (which will be fine if you are\\nredirecting all HTTP traffic to HTTPS).\\n\\nUse HTTP Strict Transport Security (HSTS)\\nHSTS is an HTTP header that informs a browser that all future connections\\nto a particular site should always use HTTPS. Combined with redirecting\\nrequests over HTTP to HTTPS, this will ensure that connections always enjoy\\nthe added security of SSL provided one successful connection has occurred.\\nHSTS may either be configured with SECURE_HSTS_SECONDS,\\nSECURE_HSTS_INCLUDE_SUBDOMAINS, and SECURE_HSTS_PRELOAD,\\nor on the web server.', metadata={'source': 'https://docs.djangoproject.com/en/5.0/topics/security/', 'title': 'Security in Django | Django documentation | Django', 'description': '', 'language': 'en'}),\n",
       " Document(page_content=\"One class of attacks can be prevented by always serving user uploaded\\ncontent from a distinct top-level or second-level domain. This prevents\\nany exploit blocked by same-origin policy protections such as cross\\nsite scripting. For example, if your site runs on example.com, you\\nwould want to serve uploaded content (the MEDIA_URL setting)\\nfrom something like usercontent-example.com. It’s not sufficient to\\nserve content from a subdomain like usercontent.example.com.\\nBeyond this, applications may choose to define a list of allowable\\nfile extensions for user uploaded files and configure the web server\\nto only serve such files.\\n\\n\\n\\n\\n\\nAdditional security topics¶\\nWhile Django provides good security protection out of the box, it is still\\nimportant to properly deploy your application and take advantage of the\\nsecurity protection of the web server, operating system and other components.\\n\\nMake sure that your Python code is outside of the web server’s root. This\\nwill ensure that your Python code is not accidentally served as plain text\\n(or accidentally executed).\\nTake care with any user uploaded files.\\nDjango does not throttle requests to authenticate users. To protect against\\nbrute-force attacks against the authentication system, you may consider\\ndeploying a Django plugin or web server module to throttle these requests.\\nKeep your SECRET_KEY, and SECRET_KEY_FALLBACKS if in\\nuse, secret.\\nIt is a good idea to limit the accessibility of your caching system and\\ndatabase using a firewall.\\nTake a look at the Open Web Application Security Project (OWASP) Top 10\\nlist which identifies some common vulnerabilities in web applications. While\\nDjango has tools to address some of the issues, other issues must be\\naccounted for in the design of your project.\\nMozilla discusses various topics regarding web security. Their\\npages also include security principles that apply to any system.\\n\\n\\n\\n\\n\\n Pagination\\nPerformance and optimization \\n\\n Back to Top\\n\\nAdditional Information\\n\\n\\nSupport Django!\\n\\n\\n\\n\\n\\n\\n          Christoph 'SuperVirus' Heitkamp donated to the Django Software Foundation to\\n          support Django development. Donate today!\\n        \\n\\n\\n\\nContents\\n\\nSecurity in Django\\nCross site scripting (XSS) protection\\nCross site request forgery (CSRF) protection\\nSQL injection protection\\nClickjacking protection\\nSSL/HTTPS\\nHost header validation\\nReferrer policy\\nCross-origin opener policy\\nSession security\\nUser-uploaded content\\nAdditional security topics\\n\\n\\n\\nBrowse\\n\\nPrev: Pagination\\nNext: Performance and optimization\\nTable of contents\\nGeneral Index\\nPython Module Index\\n\\nYou are here:\\n\\n\\nDjango 5.0 documentation\\nUsing Django\\nSecurity in Django\\n\\n\\n\\nGetting help\\n\\nFAQ\\nTry the FAQ — it's got answers to many common questions.\\nIndex, Module Index, or Table of Contents\\nHandy when looking for specific information.\\ndjango-users mailing list\\nSearch for information in the archives of the django-users mailing list, or post a question.\\n#django IRC channel\\nAsk a question in the #django IRC channel, or search the IRC logs to see if it’s been asked before.\\nDjango Discord Server\\nJoin the Django Discord Community.\\nOfficial Django Forum\\nJoin the community on the Django Forum.\\nTicket tracker\\nReport bugs with Django or Django documentation in our ticket tracker.\\n\\nDownload:\\n\\n        Offline (Django 5.0):\\n        HTML |\\n        PDF |\\n        ePub\\n\\n\\n          Provided by Read the Docs.\\n        \\n\\n\\n\\n\\n\\n\\n\\n\\n\\n\\n\\n\\n\\nDjango Links\\n\\n\\nLearn More\\n\\nAbout Django\\nGetting Started with Django\\nTeam\\n              Organization\\nDjango Software Foundation\\nCode of Conduct\\nDiversity Statement\\n\\n\\n\\nGet Involved\\n\\nJoin a Group\\nContribute\\n              to Django\\nSubmit\\n              a Bug\\nReport\\n              a Security Issue\\n\\n\\n\\nGet Help\\n\\nGetting Help FAQ\\n\\n#django IRC channel\\nDjango Discord\\nOfficial Django Forum\\n\\n\\n\\nFollow Us\\n\\nGitHub\\nTwitter\\nFediverse (Mastodon)\\nNews RSS\\nDjango Users Mailing List\\n\\n\\n\\nSupport Us\\n\\nSponsor Django\\nCorporate membership\\nOfficial merchandise store\\nBenevity Workplace Giving Program\\n\\n\\n\\n\\n\\n\\n\\n\\nDjango\", metadata={'source': 'https://docs.djangoproject.com/en/5.0/topics/security/', 'title': 'Security in Django | Django documentation | Django', 'description': '', 'language': 'en'})]"
      ]
     },
     "execution_count": 10,
     "metadata": {},
     "output_type": "execute_result"
    }
   ],
   "source": [
    "from langchain_core.messages import HumanMessage, AIMessage\n",
    "\n",
    "chat_history = [HumanMessage(content=\"I should probably store SECRET_KEY of django somewhere safe?\"), AIMessage(content=\"Yes!\")]\n",
    "\n",
    "retriever_chain.invoke({\n",
    "    \"chat_history\": chat_history,\n",
    "    \"input\": \"Tell me how to do it.\"\n",
    "})"
   ]
  },
  {
   "cell_type": "markdown",
   "metadata": {},
   "source": [
    "Now that we have this new retriever, we can create a new chain to continue the conversation with these retrieved documents in mind."
   ]
  },
  {
   "cell_type": "code",
   "execution_count": 11,
   "metadata": {},
   "outputs": [],
   "source": [
    "prompt = ChatPromptTemplate.from_messages([\n",
    "    (\"system\", \"Answer the user's questions based on the below context:\\n\\n{context}\"),\n",
    "    MessagesPlaceholder(variable_name=\"chat_history\"),\n",
    "    (\"user\", \"{input}\"),\n",
    "])\n",
    "document_chain = create_stuff_documents_chain(llm, prompt)\n",
    "\n",
    "retrieval_chain = create_retrieval_chain(retriever_chain, document_chain)"
   ]
  },
  {
   "cell_type": "code",
   "execution_count": 15,
   "metadata": {},
   "outputs": [
    {
     "name": "stdout",
     "output_type": "stream",
     "text": [
      "\n",
      "AI: Sure, let's go through them step by step. \n",
      "\n",
      "Firstly, make sure you have a good handle on your dependencies and their versions. Keeping everything up-to-date is important for maintaining strong defenses against potential security vulnerabilities.\n",
      "\n",
      "Secondly, let's talk about the use of SSL/HTTPS. This helps protect your data in transit between the user and server. It's a crucial component in maintaining a secure environment for your application.\n",
      "\n",
      "Next up, we need to handle those pesky host headers. By doing so, we can prevent potential attackers from gaining unauthorized access to our precious app.\n",
      "\n",
      "Referrer policy is next on our list! This ensures that only trusted parties can access our valuable data, preventing unwanted intruders or mischief-makers from wreaking havoc on our application.\n",
      "\n",
      "Cross-origin opener policy comes in handy too! By setting this appropriately, we protect ourselves against potential attacks originating from other domains.\n",
      "\n",
      "Session security is next on our list! Ensuring the integrity and confidentiality of your session data helps fortify strongholds against malicious actors trying to exploit vulnerabilities within them.\n",
      "\n",
      "Last but certainly not least, let's talk about user-uploaded content. By setting up proper defenses against potential attackers, we ensure that our application remains unharmed by their attempts to exploit vulnerabilities within the content they upload.\n",
      "\n",
      "Now, before you deploy your django app online, remember these essential checks and make sure everything is set up correctly! Otherwise, you might face some unfortunate consequences.\n",
      "\n",
      "By the way, if you need more details on any of these points, feel free to ask! I'm happy to help you out.\n"
     ]
    }
   ],
   "source": [
    "chat_history = [HumanMessage(content=\"I'm going to deploy my django app on the internet?\"), AIMessage(content=\"OK!\")]\n",
    "response = retrieval_chain.invoke({\n",
    "    \"chat_history\": chat_history,\n",
    "    \"input\": \"Tell me the security checks I need to do before I deploy it online!\"\n",
    "})\n",
    "print(response['answer'])"
   ]
  }
 ],
 "metadata": {
  "kernelspec": {
   "display_name": "nebiyuenv",
   "language": "python",
   "name": "nebiyuenv"
  },
  "language_info": {
   "codemirror_mode": {
    "name": "ipython",
    "version": 3
   },
   "file_extension": ".py",
   "mimetype": "text/x-python",
   "name": "python",
   "nbconvert_exporter": "python",
   "pygments_lexer": "ipython3",
   "version": "3.12.2"
  }
 },
 "nbformat": 4,
 "nbformat_minor": 2
}
